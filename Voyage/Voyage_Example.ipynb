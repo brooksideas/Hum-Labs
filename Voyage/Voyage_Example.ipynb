{
  "nbformat": 4,
  "nbformat_minor": 0,
  "metadata": {
    "colab": {
      "provenance": []
    },
    "kernelspec": {
      "name": "python3",
      "display_name": "Python 3"
    },
    "language_info": {
      "name": "python"
    }
  },
  "cells": [
    {
      "cell_type": "code",
      "execution_count": null,
      "metadata": {
        "id": "AhUPEwGCCH4L",
        "colab": {
          "base_uri": "https://localhost:8080/"
        },
        "outputId": "4da94c74-9815-42eb-9f5d-97dff36068a9"
      },
      "outputs": [
        {
          "output_type": "stream",
          "name": "stdout",
          "text": [
            "Collecting voyageai\n",
            "  Downloading voyageai-0.1.7-py3-none-any.whl (25 kB)\n",
            "Requirement already satisfied: aiohttp<4.0,>=3.5 in /usr/local/lib/python3.10/dist-packages (from voyageai) (3.9.3)\n",
            "Collecting aiolimiter<2.0.0,>=1.1.0 (from voyageai)\n",
            "  Downloading aiolimiter-1.1.0-py3-none-any.whl (7.2 kB)\n",
            "Requirement already satisfied: numpy>=1.11 in /usr/local/lib/python3.10/dist-packages (from voyageai) (1.25.2)\n",
            "Requirement already satisfied: requests<3.0,>=2.20 in /usr/local/lib/python3.10/dist-packages (from voyageai) (2.31.0)\n",
            "Requirement already satisfied: tenacity>=8.0.1 in /usr/local/lib/python3.10/dist-packages (from voyageai) (8.2.3)\n",
            "Requirement already satisfied: aiosignal>=1.1.2 in /usr/local/lib/python3.10/dist-packages (from aiohttp<4.0,>=3.5->voyageai) (1.3.1)\n",
            "Requirement already satisfied: attrs>=17.3.0 in /usr/local/lib/python3.10/dist-packages (from aiohttp<4.0,>=3.5->voyageai) (23.2.0)\n",
            "Requirement already satisfied: frozenlist>=1.1.1 in /usr/local/lib/python3.10/dist-packages (from aiohttp<4.0,>=3.5->voyageai) (1.4.1)\n",
            "Requirement already satisfied: multidict<7.0,>=4.5 in /usr/local/lib/python3.10/dist-packages (from aiohttp<4.0,>=3.5->voyageai) (6.0.5)\n",
            "Requirement already satisfied: yarl<2.0,>=1.0 in /usr/local/lib/python3.10/dist-packages (from aiohttp<4.0,>=3.5->voyageai) (1.9.4)\n",
            "Requirement already satisfied: async-timeout<5.0,>=4.0 in /usr/local/lib/python3.10/dist-packages (from aiohttp<4.0,>=3.5->voyageai) (4.0.3)\n",
            "Requirement already satisfied: charset-normalizer<4,>=2 in /usr/local/lib/python3.10/dist-packages (from requests<3.0,>=2.20->voyageai) (3.3.2)\n",
            "Requirement already satisfied: idna<4,>=2.5 in /usr/local/lib/python3.10/dist-packages (from requests<3.0,>=2.20->voyageai) (3.6)\n",
            "Requirement already satisfied: urllib3<3,>=1.21.1 in /usr/local/lib/python3.10/dist-packages (from requests<3.0,>=2.20->voyageai) (2.0.7)\n",
            "Requirement already satisfied: certifi>=2017.4.17 in /usr/local/lib/python3.10/dist-packages (from requests<3.0,>=2.20->voyageai) (2024.2.2)\n",
            "Installing collected packages: aiolimiter, voyageai\n",
            "Successfully installed aiolimiter-1.1.0 voyageai-0.1.7\n"
          ]
        }
      ],
      "source": [
        "!pip install voyageai"
      ]
    },
    {
      "cell_type": "code",
      "source": [
        "import os\n",
        "import voyageai\n",
        "os.environ['VOYAGE_API_KEY'] = \"pa-k2_wb1Mj37_Ppl1FFBmCvu-ybdIKZzels0GeMF7PnUI\"\n",
        "vo = voyageai.Client(api_key=os.environ.get(\"VOYAGE_API_KEY\"),)"
      ],
      "metadata": {
        "id": "TSZuE9-xCLzB"
      },
      "execution_count": null,
      "outputs": []
    },
    {
      "cell_type": "code",
      "source": [
        "os.environ['VOYAGE_API_KEY']"
      ],
      "metadata": {
        "colab": {
          "base_uri": "https://localhost:8080/",
          "height": 35
        },
        "id": "SoMYjwQvXNp_",
        "outputId": "639de24f-2c06-4716-c363-f0025eb44059"
      },
      "execution_count": null,
      "outputs": [
        {
          "output_type": "execute_result",
          "data": {
            "text/plain": [
              "'pa-k2_wb1Mj37_Ppl1FFBmCvu-ybdIKZzels0GeMF7PnUI'"
            ],
            "application/vnd.google.colaboratory.intrinsic+json": {
              "type": "string"
            }
          },
          "metadata": {},
          "execution_count": 5
        }
      ]
    },
    {
      "cell_type": "markdown",
      "source": [
        "# Vectorize/embed the documents"
      ],
      "metadata": {
        "id": "sg4mlBegEstP"
      }
    },
    {
      "cell_type": "code",
      "source": [
        "# Prepare data\n",
        "documents = [\n",
        "    \"The Mediterranean diet emphasizes fish, olive oil, and vegetables, believed to reduce chronic diseases.\",\n",
        "    \"Photosynthesis in plants converts light energy into glucose and produces essential oxygen.\",\n",
        "    \"20th-century innovations, from radios to smartphones, centered on electronic advancements.\",\n",
        "    \"Rivers provide water, irrigation, and habitat for aquatic species, vital for ecosystems.\",\n",
        "\t  \"Apple’s conference call to discuss fourth fiscal quarter results and business updates is scheduled for Thursday, November 2, 2023 at 2:00 p.m. PT / 5:00 p.m. ET.\",\n",
        "    \"Shakespeare's works, like 'Hamlet' and 'A Midsummer Night's Dream,' endure in literature.\"\n",
        "]"
      ],
      "metadata": {
        "id": "v2WGREqMCT-a"
      },
      "execution_count": null,
      "outputs": []
    },
    {
      "cell_type": "code",
      "source": [
        "# Embed the documents\n",
        "documents_embeddings = vo.embed(documents, model=\"voyage-lite-02-instruct\", input_type=\"document\").embeddings"
      ],
      "metadata": {
        "id": "3MNM6zssCY_l"
      },
      "execution_count": null,
      "outputs": []
    },
    {
      "cell_type": "markdown",
      "source": [
        "If you are working with more than 8 documents, you will need to use a for loop to encode them:"
      ],
      "metadata": {
        "id": "2spUUzojq0Wb"
      }
    },
    {
      "cell_type": "markdown",
      "source": [
        "# A minimalist retrieval system\n",
        "\n",
        "The main feature of the embeddings is that the cosine similarity between two embeddings captures the semantic relatedness of the corresponding original passages. This allows us to use the embeddings to do semantic retrieval / search.\n",
        "\n",
        "Suppose the user sends a \"query\" (e.g., a question or a comment) to the chatbot:"
      ],
      "metadata": {
        "id": "D7LJAdmCC8rE"
      }
    },
    {
      "cell_type": "code",
      "source": [
        "query = \"When is Apple's conference call scheduled?\""
      ],
      "metadata": {
        "id": "V1NdERNLCiIZ"
      },
      "execution_count": null,
      "outputs": []
    },
    {
      "cell_type": "markdown",
      "source": [
        "To find out the document that is most similar to the query among the existing data, we can first embed/vectorize the query:"
      ],
      "metadata": {
        "id": "Ah0NJ7icDMSb"
      }
    },
    {
      "cell_type": "code",
      "source": [
        "# Get the embedding of the query\n",
        "query_embedding = vo.embed([query], model=\"voyage-2\", input_type=\"query\").embeddings[0]"
      ],
      "metadata": {
        "id": "fgxUNXRxDKKI"
      },
      "execution_count": null,
      "outputs": []
    },
    {
      "cell_type": "markdown",
      "source": [
        "**Nearest neighbor Search:** We can find a few closest embeddings in the documents embeddings based on the cosine similarity, and retrieve the corresponding document using the nearest_neighbors function."
      ],
      "metadata": {
        "id": "hxa7bvMyDQWS"
      }
    },
    {
      "cell_type": "code",
      "source": [
        "from sklearn.metrics.pairwise import cosine_similarity\n",
        "import numpy as np\n",
        "\n",
        "def k_nearest_neighbors(query_embedding, documents_embeddings, k=5):\n",
        "  query_embedding = np.array(query_embedding) # convert to numpy array\n",
        "  documents_embeddings = np.array(documents_embeddings) # convert to numpy array\n",
        "\n",
        "  # Reshape the query vector embedding to a matrix of shape (1, n) to make it compatible with cosine_similarity\n",
        "  query_embedding = query_embedding.reshape(1, -1)\n",
        "\n",
        "  # Calculate the similarity for each item in data\n",
        "  cosine_sim = cosine_similarity(query_embedding, documents_embeddings)\n",
        "\n",
        "  # Sort the data by similarity in descending order and take the top k items\n",
        "  sorted_indices = np.argsort(cosine_sim[0])[::-1]\n",
        "\n",
        "  # Take the top k related embeddings\n",
        "  top_k_related_indices = sorted_indices[:k]\n",
        "  top_k_related_embeddings = documents_embeddings[sorted_indices[:k]]\n",
        "  top_k_related_embeddings = [list(row[:]) for row in top_k_related_embeddings] # convert to list\n",
        "\n",
        "  return top_k_related_embeddings, top_k_related_indices"
      ],
      "metadata": {
        "id": "A6zhMgxbD6n0"
      },
      "execution_count": null,
      "outputs": []
    },
    {
      "cell_type": "code",
      "source": [
        "# Use the nearest neighbor algorithm to find the document with the highest similarity\n",
        "retrieved_embd, retrieved_embd_index = k_nearest_neighbors(query_embedding, documents_embeddings, k=1)\n",
        "retrieved_doc = [documents[index] for index in retrieved_embd_index]\n",
        "\n",
        "print(retrieved_doc)"
      ],
      "metadata": {
        "id": "FHRshmDVDTDs",
        "colab": {
          "base_uri": "https://localhost:8080/"
        },
        "outputId": "b46f7b58-5345-415b-da96-fb53cd079b28"
      },
      "execution_count": null,
      "outputs": [
        {
          "output_type": "stream",
          "name": "stdout",
          "text": [
            "['Apple’s conference call to discuss fourth fiscal quarter results and business updates is scheduled for Thursday, November 2, 2023 at 2:00 p.m. PT / 5:00 p.m. ET.']\n"
          ]
        }
      ]
    },
    {
      "cell_type": "markdown",
      "source": [
        "**$k$-nearest neighbors Search ($k$-NN):** It is often useful to retrieve not only the closest document but also the $k$ most closest documents. The k_nearest_neighbors algorithm enables us to achieve this. It is important to note that `nearest_neighbors` is special case of `k_nearest_neighbors` when $k=1$."
      ],
      "metadata": {
        "id": "7OZL9ft8DXRr"
      }
    },
    {
      "cell_type": "code",
      "source": [
        "# Use the k-nearest neighbor algorithm to identify the top-k documents with the highest similarity\n",
        "retrieved_embds, retrieved_embd_indices = k_nearest_neighbors(query_embedding, documents_embeddings, k=3)\n",
        "retrieved_docs = [documents[index] for index in retrieved_embd_indices]\n",
        "\n",
        "print(retrieved_docs)"
      ],
      "metadata": {
        "id": "ct6imBPuDYNl",
        "colab": {
          "base_uri": "https://localhost:8080/"
        },
        "outputId": "95c465b9-9a66-4a31-91f3-c7d596195003"
      },
      "execution_count": null,
      "outputs": [
        {
          "output_type": "stream",
          "name": "stdout",
          "text": [
            "['Apple’s conference call to discuss fourth fiscal quarter results and business updates is scheduled for Thursday, November 2, 2023 at 2:00 p.m. PT / 5:00 p.m. ET.', '20th-century innovations, from radios to smartphones, centered on electronic advancements.', 'Photosynthesis in plants converts light energy into glucose and produces essential oxygen.']\n"
          ]
        }
      ]
    }
  ]
}